{
 "cells": [
  {
   "cell_type": "code",
   "execution_count": 2,
   "id": "inappropriate-messenger",
   "metadata": {},
   "outputs": [],
   "source": [
    "# Tema pe acasă 1.1\n",
    "# Ecuația de gradul 2"
   ]
  },
  {
   "cell_type": "code",
   "execution_count": 3,
   "id": "looking-change",
   "metadata": {},
   "outputs": [
    {
     "name": "stdout",
     "output_type": "stream",
     "text": [
      "a = 5\n",
      "b = 4\n",
      "c = 5\n",
      "Ecuația nu are soluții\n"
     ]
    }
   ],
   "source": [
    "import math\n",
    "a = int(input(\"a = \"))\n",
    "b = int(input(\"b = \"))\n",
    "c = int(input(\"c = \"))\n",
    "delta = b ** 2 - 4 * a * c\n",
    "if delta < 0:\n",
    "    print(\"Ecuația nu are soluții\")\n",
    "if delta >= 0:\n",
    "    x1 = (-b + math.sqrt(delta)) % 2 * a\n",
    "    x2 = (-b - math.sqrt(delta)) % 2 * a\n",
    "    print(f\"Soluția este: x1 = {x1}, x2 = {x2}\")"
   ]
  },
  {
   "cell_type": "code",
   "execution_count": null,
   "id": "stable-embassy",
   "metadata": {},
   "outputs": [],
   "source": []
  }
 ],
 "metadata": {
  "kernelspec": {
   "display_name": "Python 3",
   "language": "python",
   "name": "python3"
  },
  "language_info": {
   "codemirror_mode": {
    "name": "ipython",
    "version": 3
   },
   "file_extension": ".py",
   "mimetype": "text/x-python",
   "name": "python",
   "nbconvert_exporter": "python",
   "pygments_lexer": "ipython3",
   "version": "3.7.9"
  }
 },
 "nbformat": 4,
 "nbformat_minor": 5
}
