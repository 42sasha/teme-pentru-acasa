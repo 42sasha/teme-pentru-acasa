{
 "cells": [
  {
   "cell_type": "code",
   "execution_count": 2,
   "id": "inappropriate-messenger",
   "metadata": {},
   "outputs": [],
   "source": [
    "# Tema pe acasă 1.1\n",
    "# Ecuația de gradul 2"
   ]
  },
  {
   "cell_type": "code",
   "execution_count": 10,
   "id": "looking-change",
   "metadata": {},
   "outputs": [
    {
     "name": "stdout",
     "output_type": "stream",
     "text": [
      "a = 2\n",
      "b = 8\n",
      "c = 8\n",
      "Soluția este: x1 = x2 = -2.0\n"
     ]
    }
   ],
   "source": [
    "import math\n",
    "a = int(input(\"a = \"))\n",
    "b = int(input(\"b = \"))\n",
    "c = int(input(\"c = \"))\n",
    "delta = b ** 2 - (4 * a * c)\n",
    "if delta < 0:\n",
    "    print(\"Ecuația nu are soluții\")\n",
    "if delta == 0:\n",
    "    x = -b / (2 * a)\n",
    "    print(f\"Soluția este: x1 = x2 = {x}\")\n",
    "elif delta > 0:\n",
    "    x1 = (-b + math.sqrt(delta)) / (2 * a)\n",
    "    x2 = (-b - math.sqrt(delta)) / (2 * a)\n",
    "    print(f\"Soluția este: x1 = {x1}, x2 = {x2}\")"
   ]
  },
  {
   "cell_type": "code",
   "execution_count": 11,
   "id": "stable-embassy",
   "metadata": {},
   "outputs": [],
   "source": [
    "# tema pentru acasă 1.2\n",
    "# calculează distanța euclidiană: d(x1, y1)"
   ]
  },
  {
   "cell_type": "code",
   "execution_count": 26,
   "id": "rising-italic",
   "metadata": {},
   "outputs": [
    {
     "name": "stdout",
     "output_type": "stream",
     "text": [
      "x1 = 7\n",
      "x2 = 9\n",
      "y1 = 4\n",
      "y2 = 5\n",
      "d(x, y) = 5.0\n"
     ]
    }
   ],
   "source": [
    "import math\n",
    "x1 = int(input(\"x1 = \"))\n",
    "x2 = int(input(\"x2 = \"))\n",
    "y1 = int(input(\"y1 = \"))\n",
    "y2 = int(input(\"y2 = \"))\n",
    "res = math.sqrt((x1-y1)**2 +(x2-y2)**2)\n",
    "print(f\"d(x, y) = {res}\")"
   ]
  }
 ],
 "metadata": {
  "kernelspec": {
   "display_name": "Python 3",
   "language": "python",
   "name": "python3"
  },
  "language_info": {
   "codemirror_mode": {
    "name": "ipython",
    "version": 3
   },
   "file_extension": ".py",
   "mimetype": "text/x-python",
   "name": "python",
   "nbconvert_exporter": "python",
   "pygments_lexer": "ipython3",
   "version": "3.7.9"
  }
 },
 "nbformat": 4,
 "nbformat_minor": 5
}
